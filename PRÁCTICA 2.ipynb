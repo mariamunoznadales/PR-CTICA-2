{
 "cells": [
  {
   "cell_type": "code",
   "execution_count": 2,
   "metadata": {
    "collapsed": false
   },
   "outputs": [
    {
     "data": {
      "text/plain": [
       "(-4, -3)"
      ]
     },
     "execution_count": 2,
     "metadata": {
     },
     "output_type": "execute_result"
    }
   ],
   "source": [
    "\n",
    "numero = -3.56\n",
    "\n",
    "# Calcula el floor y el ceiling\n",
    "suelo = floor(numero)\n",
    "techo = ceil(numero)\n",
    "\n",
    "# Muestra los resultados\n",
    "suelo, techo\n",
    "\n"
   ]
  },
  {
   "cell_type": "code",
   "execution_count": 3,
   "metadata": {
    "collapsed": false
   },
   "outputs": [
    {
     "data": {
      "text/plain": [
       "(2*log(10), 2, log(10))"
      ]
     },
     "execution_count": 3,
     "metadata": {
     },
     "output_type": "execute_result"
    }
   ],
   "source": [
    "\n",
    "numero = 100\n",
    "\n",
    "# Calcula el logaritmo en base e\n",
    "log_e = log(numero)\n",
    "\n",
    "# Calcula el logaritmo en base 10\n",
    "log_10 = log(numero, base=10)\n",
    "\n",
    "# Calcula el cociente de los logaritmos\n",
    "cociente_log = log_e / log_10\n",
    "\n",
    "# Muestra los resultados\n",
    "log_e, log_10, cociente_log\n"
   ]
  },
  {
   "cell_type": "code",
   "execution_count": 4,
   "metadata": {
    "collapsed": false
   },
   "outputs": [
    {
     "data": {
      "text/plain": [
       "6"
      ]
     },
     "execution_count": 4,
     "metadata": {
     },
     "output_type": "execute_result"
    }
   ],
   "source": [
    "\n",
    "numero = 64\n",
    "\n",
    "# Calcula el logaritmo en base 2\n",
    "log_base_2 = log(numero, base=2)\n",
    "\n",
    "# Muestra el resultado\n",
    "log_base_2\n"
   ]
  },
  {
   "cell_type": "code",
   "execution_count": 5,
   "metadata": {
    "collapsed": false
   },
   "outputs": [
    {
     "data": {
      "text/plain": [
       "(-1, -1.00000000000000 + 1.22464679914735e-16*I)"
      ]
     },
     "execution_count": 5,
     "metadata": {
     },
     "output_type": "execute_result"
    }
   ],
   "source": [
    "# Calcula la expresión e^(i*pi)\n",
    "expresion = exp(I * pi)\n",
    "\n",
    "# Aproximación numérica de pi\n",
    "pi_aprox = pi.n()\n",
    "\n",
    "# Calcula la expresión utilizando la aproximación numérica de pi\n",
    "expresion_aprox = exp(I * pi_aprox)\n",
    "\n",
    "# Muestra los resultados\n",
    "expresion, expresion_aprox\n"
   ]
  },
  {
   "cell_type": "code",
   "execution_count": 18,
   "metadata": {
    "collapsed": false
   },
   "outputs": [
    {
     "ename": "TypeError",
     "evalue": "Substitution using function-call syntax and unnamed arguments has been removed. You can use named arguments instead, like EXPR(x=..., y=...)",
     "output_type": "error",
     "traceback": [
      "\u001b[0;31m---------------------------------------------------------------------------\u001b[0m",
      "\u001b[0;31mTypeError\u001b[0m                                 Traceback (most recent call last)",
      "Cell \u001b[0;32mIn [18], line 3\u001b[0m\n\u001b[1;32m      1\u001b[0m \u001b[38;5;66;03m#Calcula sin (π/2), cot (π/4) i csc (π/16).\u001b[39;00m\n\u001b[0;32m----> 3\u001b[0m seno \u001b[38;5;241m=\u001b[39m \u001b[43msin\u001b[49m\u001b[43m(\u001b[49m\u001b[43mpi\u001b[49m\u001b[38;5;241;43m/\u001b[39;49m\u001b[43mInteger\u001b[49m\u001b[43m(\u001b[49m\u001b[38;5;241;43m2\u001b[39;49m\u001b[43m)\u001b[49m\u001b[43m)\u001b[49m\n\u001b[1;32m      4\u001b[0m cotangente \u001b[38;5;241m=\u001b[39m cot(pi\u001b[38;5;241m/\u001b[39mInteger(\u001b[38;5;241m4\u001b[39m))\n\u001b[1;32m      5\u001b[0m cosecante \u001b[38;5;241m=\u001b[39m csc(pi\u001b[38;5;241m/\u001b[39mInteger(\u001b[38;5;241m16\u001b[39m))\n",
      "File \u001b[0;32m/ext/sage/10.2/src/sage/symbolic/expression.pyx:6189\u001b[0m, in \u001b[0;36msage.symbolic.expression.Expression.__call__\u001b[0;34m()\u001b[0m\n\u001b[1;32m   6187\u001b[0m         z^2 + x^y\n\u001b[1;32m   6188\u001b[0m     \"\"\"\n\u001b[0;32m-> 6189\u001b[0m     return self._parent._call_element_(self, *args, **kwds)\n\u001b[1;32m   6190\u001b[0m \n\u001b[1;32m   6191\u001b[0m def variables(self):\n",
      "File \u001b[0;32m/ext/sage/10.2/src/sage/symbolic/ring.pyx:1039\u001b[0m, in \u001b[0;36msage.symbolic.ring.SymbolicRing._call_element_\u001b[0;34m()\u001b[0m\n\u001b[1;32m   1037\u001b[0m     d = args[0]\n\u001b[1;32m   1038\u001b[0m else:\n\u001b[0;32m-> 1039\u001b[0m     raise TypeError(\"Substitution using function-call syntax \"\n\u001b[1;32m   1040\u001b[0m                     \"and unnamed arguments has been removed. You \"\n\u001b[1;32m   1041\u001b[0m                     \"can use named arguments instead, like \"\n",
      "\u001b[0;31mTypeError\u001b[0m: Substitution using function-call syntax and unnamed arguments has been removed. You can use named arguments instead, like EXPR(x=..., y=...)"
     ]
    }
   ],
   "source": [
    "#Calcula sin (π/2), cot (π/4) i csc (π/16).\n",
    "\n",
    "seno = sin(pi/2)\n",
    "cotangente = cot(pi/4)\n",
    "cosecante = csc(pi/16)\n",
    "\n",
    "#Resultados\n",
    "print(\"El sin (π/2) = {} \\nLa cot (π/4) = {} \\nLa csc(π/16) = {}\" .format(seno, cotangente, float(cosecante)))\n",
    "\n",
    "\n"
   ]
 
